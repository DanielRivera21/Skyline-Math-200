{
  "nbformat": 4,
  "nbformat_minor": 0,
  "metadata": {
    "colab": {
      "provenance": [],
      "include_colab_link": true
    },
    "kernelspec": {
      "name": "python3",
      "display_name": "Python 3"
    },
    "language_info": {
      "name": "python"
    }
  },
  "cells": [
    {
      "cell_type": "markdown",
      "metadata": {
        "id": "view-in-github",
        "colab_type": "text"
      },
      "source": [
        "<a href=\"https://colab.research.google.com/github/DanielRivera21/Skyline-Math-200/blob/main/Daniel_Rivera_Research_Question_2.ipynb\" target=\"_parent\"><img src=\"https://colab.research.google.com/assets/colab-badge.svg\" alt=\"Open In Colab\"/></a>"
      ]
    },
    {
      "cell_type": "markdown",
      "source": [
        "# RESEARCH QUESTION # 2"
      ],
      "metadata": {
        "id": "8lo8HjAsNYhy"
      }
    },
    {
      "cell_type": "markdown",
      "source": [
        "Research Question # __ : Include question here"
      ],
      "metadata": {
        "id": "RaflRRFg5e8L"
      }
    },
    {
      "cell_type": "code",
      "execution_count": null,
      "metadata": {
        "id": "U2T9urK-5ZAe"
      },
      "outputs": [],
      "source": [
        "import pandas as pd\n",
        "import matplotlib.pyplot as plt\n",
        "import seaborn as sns"
      ]
    },
    {
      "cell_type": "code",
      "source": [
        "pip install researchpy"
      ],
      "metadata": {
        "colab": {
          "base_uri": "https://localhost:8080/"
        },
        "id": "fLOAMUDVfSEh",
        "outputId": "ccaf1676-264b-49f1-bfdd-68cd2622e1d7"
      },
      "execution_count": null,
      "outputs": [
        {
          "output_type": "stream",
          "name": "stdout",
          "text": [
            "Requirement already satisfied: researchpy in /usr/local/lib/python3.10/dist-packages (0.3.6)\n",
            "Requirement already satisfied: scipy in /usr/local/lib/python3.10/dist-packages (from researchpy) (1.11.4)\n",
            "Requirement already satisfied: numpy in /usr/local/lib/python3.10/dist-packages (from researchpy) (1.25.2)\n",
            "Requirement already satisfied: pandas in /usr/local/lib/python3.10/dist-packages (from researchpy) (2.0.3)\n",
            "Requirement already satisfied: statsmodels in /usr/local/lib/python3.10/dist-packages (from researchpy) (0.14.2)\n",
            "Requirement already satisfied: patsy in /usr/local/lib/python3.10/dist-packages (from researchpy) (0.5.6)\n",
            "Requirement already satisfied: python-dateutil>=2.8.2 in /usr/local/lib/python3.10/dist-packages (from pandas->researchpy) (2.8.2)\n",
            "Requirement already satisfied: pytz>=2020.1 in /usr/local/lib/python3.10/dist-packages (from pandas->researchpy) (2023.4)\n",
            "Requirement already satisfied: tzdata>=2022.1 in /usr/local/lib/python3.10/dist-packages (from pandas->researchpy) (2024.1)\n",
            "Requirement already satisfied: six in /usr/local/lib/python3.10/dist-packages (from patsy->researchpy) (1.16.0)\n",
            "Requirement already satisfied: packaging>=21.3 in /usr/local/lib/python3.10/dist-packages (from statsmodels->researchpy) (24.0)\n"
          ]
        }
      ]
    },
    {
      "cell_type": "code",
      "source": [
        "import researchpy as rp"
      ],
      "metadata": {
        "id": "htmV-or-fHPl"
      },
      "execution_count": null,
      "outputs": []
    },
    {
      "cell_type": "code",
      "source": [
        "#New Dataset with Demographics\n",
        "url='https://drive.google.com/file/d/1J1lYAGJTivdEYYFoVK7m7tShm4kNhSgh/view?usp=sharing'\n",
        "path= 'https://drive.google.com/uc?export=download&id='+url.split('/')[-2]\n",
        "df = pd.read_csv(path)\n",
        "df.head(5)"
      ],
      "metadata": {
        "id": "Hq7jBgXZ5p7g",
        "colab": {
          "base_uri": "https://localhost:8080/",
          "height": 293
        },
        "outputId": "9d2015f4-30cc-4595-f829-6f4185c4889c"
      },
      "execution_count": null,
      "outputs": [
        {
          "output_type": "stream",
          "name": "stderr",
          "text": [
            "<ipython-input-29-f83a3cdbc7e9>:4: DtypeWarning: Columns (91,92,104,105,106,203,204,205,206,207,208,209,210,211,212,213,214,215,216,217,218,219,220,221,222,223,224,225,226,227,228,229,230,231,232,233,234,235,236,237,238,239,240,241,242,243,244,245,246,247,248,249,250,251,252,253,254,255,256,257,258,259,260,261,262,263,264,265,266,267,268,269,270,271,272,273,274,275,276,277,278,279,280,281,282,284,285,286,287,288,289,290,291,292,293,294,295,296,297,298,299,300,301,302,303,304,305,306,307,308,309,310,311,312,313,385,386,387,388,389,390,391,392,393,395,396,397,398,399,400,401,402,403,404,405,406,407,408,440,441,442,481,482,483,484,485,486,496,497,498,499,560,567,657,729,730,850,851,852,853,854,855,856,857,858,859,860,861,862,863,864,865,866,867,868,869,870,871,872,873,874,875,876,877,878,879,880,881,882,883,884,885,886,887,888,889,890,891,892,893,894,895,896,897,898,899,900,901,902,903,904,905,906,907,908,909,910,911,912,913,914,915,916,917,918,919,920,921,922,923,924,944,945,946,947,948,949,950,951,952,953,954,955,956,957,958,959,960,961) have mixed types. Specify dtype option on import or set low_memory=False.\n",
            "  df = pd.read_csv(path)\n"
          ]
        },
        {
          "output_type": "execute_result",
          "data": {
            "text/plain": [
              "   RACE  ETHNICITY  h4od1y  iyear4       AID  BIO_SEX        agew1  IMONTH4  \\\n",
              "0     2          0    1976    2008  57101310        2  19.42739726        5   \n",
              "1     5          0    1976    2008  57103869        1  20.43013699        5   \n",
              "2     2          0    1981    2008  57109625        1  15.17808219       11   \n",
              "3     2          0    1981    2008  57111071        1   14.9260274        6   \n",
              "4     2          0    1979    2008  57113943        1  17.34246575       11   \n",
              "\n",
              "   IDAY4   MACNO4  ...  H4EO5D  H4EO5E H4EO5F H4EO5G  H4EO5H  H4EO5I  H4EO5J  \\\n",
              "0      6  2288160  ...       0       0      0      0       0       0       0   \n",
              "1     22  2288238  ...       0       0      0      0       0       0       0   \n",
              "2      2  2288258  ...                                                         \n",
              "3     29  2288260  ...       0       0      0      0       0       0       0   \n",
              "4     11  2288282  ...       0       0      0      0       0       0       0   \n",
              "\n",
              "   H4EO6  H4EO7  AGE4  \n",
              "0      2      1    32  \n",
              "1      4      1    32  \n",
              "2                  27  \n",
              "3      1      2    27  \n",
              "4      5      3    29  \n",
              "\n",
              "[5 rows x 979 columns]"
            ],
            "text/html": [
              "\n",
              "  <div id=\"df-4c1a5038-29f2-43fe-b457-e020646ae2e3\" class=\"colab-df-container\">\n",
              "    <div>\n",
              "<style scoped>\n",
              "    .dataframe tbody tr th:only-of-type {\n",
              "        vertical-align: middle;\n",
              "    }\n",
              "\n",
              "    .dataframe tbody tr th {\n",
              "        vertical-align: top;\n",
              "    }\n",
              "\n",
              "    .dataframe thead th {\n",
              "        text-align: right;\n",
              "    }\n",
              "</style>\n",
              "<table border=\"1\" class=\"dataframe\">\n",
              "  <thead>\n",
              "    <tr style=\"text-align: right;\">\n",
              "      <th></th>\n",
              "      <th>RACE</th>\n",
              "      <th>ETHNICITY</th>\n",
              "      <th>h4od1y</th>\n",
              "      <th>iyear4</th>\n",
              "      <th>AID</th>\n",
              "      <th>BIO_SEX</th>\n",
              "      <th>agew1</th>\n",
              "      <th>IMONTH4</th>\n",
              "      <th>IDAY4</th>\n",
              "      <th>MACNO4</th>\n",
              "      <th>...</th>\n",
              "      <th>H4EO5D</th>\n",
              "      <th>H4EO5E</th>\n",
              "      <th>H4EO5F</th>\n",
              "      <th>H4EO5G</th>\n",
              "      <th>H4EO5H</th>\n",
              "      <th>H4EO5I</th>\n",
              "      <th>H4EO5J</th>\n",
              "      <th>H4EO6</th>\n",
              "      <th>H4EO7</th>\n",
              "      <th>AGE4</th>\n",
              "    </tr>\n",
              "  </thead>\n",
              "  <tbody>\n",
              "    <tr>\n",
              "      <th>0</th>\n",
              "      <td>2</td>\n",
              "      <td>0</td>\n",
              "      <td>1976</td>\n",
              "      <td>2008</td>\n",
              "      <td>57101310</td>\n",
              "      <td>2</td>\n",
              "      <td>19.42739726</td>\n",
              "      <td>5</td>\n",
              "      <td>6</td>\n",
              "      <td>2288160</td>\n",
              "      <td>...</td>\n",
              "      <td>0</td>\n",
              "      <td>0</td>\n",
              "      <td>0</td>\n",
              "      <td>0</td>\n",
              "      <td>0</td>\n",
              "      <td>0</td>\n",
              "      <td>0</td>\n",
              "      <td>2</td>\n",
              "      <td>1</td>\n",
              "      <td>32</td>\n",
              "    </tr>\n",
              "    <tr>\n",
              "      <th>1</th>\n",
              "      <td>5</td>\n",
              "      <td>0</td>\n",
              "      <td>1976</td>\n",
              "      <td>2008</td>\n",
              "      <td>57103869</td>\n",
              "      <td>1</td>\n",
              "      <td>20.43013699</td>\n",
              "      <td>5</td>\n",
              "      <td>22</td>\n",
              "      <td>2288238</td>\n",
              "      <td>...</td>\n",
              "      <td>0</td>\n",
              "      <td>0</td>\n",
              "      <td>0</td>\n",
              "      <td>0</td>\n",
              "      <td>0</td>\n",
              "      <td>0</td>\n",
              "      <td>0</td>\n",
              "      <td>4</td>\n",
              "      <td>1</td>\n",
              "      <td>32</td>\n",
              "    </tr>\n",
              "    <tr>\n",
              "      <th>2</th>\n",
              "      <td>2</td>\n",
              "      <td>0</td>\n",
              "      <td>1981</td>\n",
              "      <td>2008</td>\n",
              "      <td>57109625</td>\n",
              "      <td>1</td>\n",
              "      <td>15.17808219</td>\n",
              "      <td>11</td>\n",
              "      <td>2</td>\n",
              "      <td>2288258</td>\n",
              "      <td>...</td>\n",
              "      <td></td>\n",
              "      <td></td>\n",
              "      <td></td>\n",
              "      <td></td>\n",
              "      <td></td>\n",
              "      <td></td>\n",
              "      <td></td>\n",
              "      <td></td>\n",
              "      <td></td>\n",
              "      <td>27</td>\n",
              "    </tr>\n",
              "    <tr>\n",
              "      <th>3</th>\n",
              "      <td>2</td>\n",
              "      <td>0</td>\n",
              "      <td>1981</td>\n",
              "      <td>2008</td>\n",
              "      <td>57111071</td>\n",
              "      <td>1</td>\n",
              "      <td>14.9260274</td>\n",
              "      <td>6</td>\n",
              "      <td>29</td>\n",
              "      <td>2288260</td>\n",
              "      <td>...</td>\n",
              "      <td>0</td>\n",
              "      <td>0</td>\n",
              "      <td>0</td>\n",
              "      <td>0</td>\n",
              "      <td>0</td>\n",
              "      <td>0</td>\n",
              "      <td>0</td>\n",
              "      <td>1</td>\n",
              "      <td>2</td>\n",
              "      <td>27</td>\n",
              "    </tr>\n",
              "    <tr>\n",
              "      <th>4</th>\n",
              "      <td>2</td>\n",
              "      <td>0</td>\n",
              "      <td>1979</td>\n",
              "      <td>2008</td>\n",
              "      <td>57113943</td>\n",
              "      <td>1</td>\n",
              "      <td>17.34246575</td>\n",
              "      <td>11</td>\n",
              "      <td>11</td>\n",
              "      <td>2288282</td>\n",
              "      <td>...</td>\n",
              "      <td>0</td>\n",
              "      <td>0</td>\n",
              "      <td>0</td>\n",
              "      <td>0</td>\n",
              "      <td>0</td>\n",
              "      <td>0</td>\n",
              "      <td>0</td>\n",
              "      <td>5</td>\n",
              "      <td>3</td>\n",
              "      <td>29</td>\n",
              "    </tr>\n",
              "  </tbody>\n",
              "</table>\n",
              "<p>5 rows × 979 columns</p>\n",
              "</div>\n",
              "    <div class=\"colab-df-buttons\">\n",
              "\n",
              "  <div class=\"colab-df-container\">\n",
              "    <button class=\"colab-df-convert\" onclick=\"convertToInteractive('df-4c1a5038-29f2-43fe-b457-e020646ae2e3')\"\n",
              "            title=\"Convert this dataframe to an interactive table.\"\n",
              "            style=\"display:none;\">\n",
              "\n",
              "  <svg xmlns=\"http://www.w3.org/2000/svg\" height=\"24px\" viewBox=\"0 -960 960 960\">\n",
              "    <path d=\"M120-120v-720h720v720H120Zm60-500h600v-160H180v160Zm220 220h160v-160H400v160Zm0 220h160v-160H400v160ZM180-400h160v-160H180v160Zm440 0h160v-160H620v160ZM180-180h160v-160H180v160Zm440 0h160v-160H620v160Z\"/>\n",
              "  </svg>\n",
              "    </button>\n",
              "\n",
              "  <style>\n",
              "    .colab-df-container {\n",
              "      display:flex;\n",
              "      gap: 12px;\n",
              "    }\n",
              "\n",
              "    .colab-df-convert {\n",
              "      background-color: #E8F0FE;\n",
              "      border: none;\n",
              "      border-radius: 50%;\n",
              "      cursor: pointer;\n",
              "      display: none;\n",
              "      fill: #1967D2;\n",
              "      height: 32px;\n",
              "      padding: 0 0 0 0;\n",
              "      width: 32px;\n",
              "    }\n",
              "\n",
              "    .colab-df-convert:hover {\n",
              "      background-color: #E2EBFA;\n",
              "      box-shadow: 0px 1px 2px rgba(60, 64, 67, 0.3), 0px 1px 3px 1px rgba(60, 64, 67, 0.15);\n",
              "      fill: #174EA6;\n",
              "    }\n",
              "\n",
              "    .colab-df-buttons div {\n",
              "      margin-bottom: 4px;\n",
              "    }\n",
              "\n",
              "    [theme=dark] .colab-df-convert {\n",
              "      background-color: #3B4455;\n",
              "      fill: #D2E3FC;\n",
              "    }\n",
              "\n",
              "    [theme=dark] .colab-df-convert:hover {\n",
              "      background-color: #434B5C;\n",
              "      box-shadow: 0px 1px 3px 1px rgba(0, 0, 0, 0.15);\n",
              "      filter: drop-shadow(0px 1px 2px rgba(0, 0, 0, 0.3));\n",
              "      fill: #FFFFFF;\n",
              "    }\n",
              "  </style>\n",
              "\n",
              "    <script>\n",
              "      const buttonEl =\n",
              "        document.querySelector('#df-4c1a5038-29f2-43fe-b457-e020646ae2e3 button.colab-df-convert');\n",
              "      buttonEl.style.display =\n",
              "        google.colab.kernel.accessAllowed ? 'block' : 'none';\n",
              "\n",
              "      async function convertToInteractive(key) {\n",
              "        const element = document.querySelector('#df-4c1a5038-29f2-43fe-b457-e020646ae2e3');\n",
              "        const dataTable =\n",
              "          await google.colab.kernel.invokeFunction('convertToInteractive',\n",
              "                                                    [key], {});\n",
              "        if (!dataTable) return;\n",
              "\n",
              "        const docLinkHtml = 'Like what you see? Visit the ' +\n",
              "          '<a target=\"_blank\" href=https://colab.research.google.com/notebooks/data_table.ipynb>data table notebook</a>'\n",
              "          + ' to learn more about interactive tables.';\n",
              "        element.innerHTML = '';\n",
              "        dataTable['output_type'] = 'display_data';\n",
              "        await google.colab.output.renderOutput(dataTable, element);\n",
              "        const docLink = document.createElement('div');\n",
              "        docLink.innerHTML = docLinkHtml;\n",
              "        element.appendChild(docLink);\n",
              "      }\n",
              "    </script>\n",
              "  </div>\n",
              "\n",
              "\n",
              "<div id=\"df-35f66f62-507f-4668-9c1e-af6c011a4426\">\n",
              "  <button class=\"colab-df-quickchart\" onclick=\"quickchart('df-35f66f62-507f-4668-9c1e-af6c011a4426')\"\n",
              "            title=\"Suggest charts\"\n",
              "            style=\"display:none;\">\n",
              "\n",
              "<svg xmlns=\"http://www.w3.org/2000/svg\" height=\"24px\"viewBox=\"0 0 24 24\"\n",
              "     width=\"24px\">\n",
              "    <g>\n",
              "        <path d=\"M19 3H5c-1.1 0-2 .9-2 2v14c0 1.1.9 2 2 2h14c1.1 0 2-.9 2-2V5c0-1.1-.9-2-2-2zM9 17H7v-7h2v7zm4 0h-2V7h2v10zm4 0h-2v-4h2v4z\"/>\n",
              "    </g>\n",
              "</svg>\n",
              "  </button>\n",
              "\n",
              "<style>\n",
              "  .colab-df-quickchart {\n",
              "      --bg-color: #E8F0FE;\n",
              "      --fill-color: #1967D2;\n",
              "      --hover-bg-color: #E2EBFA;\n",
              "      --hover-fill-color: #174EA6;\n",
              "      --disabled-fill-color: #AAA;\n",
              "      --disabled-bg-color: #DDD;\n",
              "  }\n",
              "\n",
              "  [theme=dark] .colab-df-quickchart {\n",
              "      --bg-color: #3B4455;\n",
              "      --fill-color: #D2E3FC;\n",
              "      --hover-bg-color: #434B5C;\n",
              "      --hover-fill-color: #FFFFFF;\n",
              "      --disabled-bg-color: #3B4455;\n",
              "      --disabled-fill-color: #666;\n",
              "  }\n",
              "\n",
              "  .colab-df-quickchart {\n",
              "    background-color: var(--bg-color);\n",
              "    border: none;\n",
              "    border-radius: 50%;\n",
              "    cursor: pointer;\n",
              "    display: none;\n",
              "    fill: var(--fill-color);\n",
              "    height: 32px;\n",
              "    padding: 0;\n",
              "    width: 32px;\n",
              "  }\n",
              "\n",
              "  .colab-df-quickchart:hover {\n",
              "    background-color: var(--hover-bg-color);\n",
              "    box-shadow: 0 1px 2px rgba(60, 64, 67, 0.3), 0 1px 3px 1px rgba(60, 64, 67, 0.15);\n",
              "    fill: var(--button-hover-fill-color);\n",
              "  }\n",
              "\n",
              "  .colab-df-quickchart-complete:disabled,\n",
              "  .colab-df-quickchart-complete:disabled:hover {\n",
              "    background-color: var(--disabled-bg-color);\n",
              "    fill: var(--disabled-fill-color);\n",
              "    box-shadow: none;\n",
              "  }\n",
              "\n",
              "  .colab-df-spinner {\n",
              "    border: 2px solid var(--fill-color);\n",
              "    border-color: transparent;\n",
              "    border-bottom-color: var(--fill-color);\n",
              "    animation:\n",
              "      spin 1s steps(1) infinite;\n",
              "  }\n",
              "\n",
              "  @keyframes spin {\n",
              "    0% {\n",
              "      border-color: transparent;\n",
              "      border-bottom-color: var(--fill-color);\n",
              "      border-left-color: var(--fill-color);\n",
              "    }\n",
              "    20% {\n",
              "      border-color: transparent;\n",
              "      border-left-color: var(--fill-color);\n",
              "      border-top-color: var(--fill-color);\n",
              "    }\n",
              "    30% {\n",
              "      border-color: transparent;\n",
              "      border-left-color: var(--fill-color);\n",
              "      border-top-color: var(--fill-color);\n",
              "      border-right-color: var(--fill-color);\n",
              "    }\n",
              "    40% {\n",
              "      border-color: transparent;\n",
              "      border-right-color: var(--fill-color);\n",
              "      border-top-color: var(--fill-color);\n",
              "    }\n",
              "    60% {\n",
              "      border-color: transparent;\n",
              "      border-right-color: var(--fill-color);\n",
              "    }\n",
              "    80% {\n",
              "      border-color: transparent;\n",
              "      border-right-color: var(--fill-color);\n",
              "      border-bottom-color: var(--fill-color);\n",
              "    }\n",
              "    90% {\n",
              "      border-color: transparent;\n",
              "      border-bottom-color: var(--fill-color);\n",
              "    }\n",
              "  }\n",
              "</style>\n",
              "\n",
              "  <script>\n",
              "    async function quickchart(key) {\n",
              "      const quickchartButtonEl =\n",
              "        document.querySelector('#' + key + ' button');\n",
              "      quickchartButtonEl.disabled = true;  // To prevent multiple clicks.\n",
              "      quickchartButtonEl.classList.add('colab-df-spinner');\n",
              "      try {\n",
              "        const charts = await google.colab.kernel.invokeFunction(\n",
              "            'suggestCharts', [key], {});\n",
              "      } catch (error) {\n",
              "        console.error('Error during call to suggestCharts:', error);\n",
              "      }\n",
              "      quickchartButtonEl.classList.remove('colab-df-spinner');\n",
              "      quickchartButtonEl.classList.add('colab-df-quickchart-complete');\n",
              "    }\n",
              "    (() => {\n",
              "      let quickchartButtonEl =\n",
              "        document.querySelector('#df-35f66f62-507f-4668-9c1e-af6c011a4426 button');\n",
              "      quickchartButtonEl.style.display =\n",
              "        google.colab.kernel.accessAllowed ? 'block' : 'none';\n",
              "    })();\n",
              "  </script>\n",
              "</div>\n",
              "    </div>\n",
              "  </div>\n"
            ],
            "application/vnd.google.colaboratory.intrinsic+json": {
              "type": "dataframe",
              "variable_name": "df"
            }
          },
          "metadata": {},
          "execution_count": 29
        }
      ]
    },
    {
      "cell_type": "markdown",
      "source": [
        "# **Data Management:**\n",
        "\n",
        "\n",
        "1.   Remove all refused to answer, skip, and I don't know\n",
        "2.   Remove all blank spaces then formation the responses\n",
        "\n"
      ],
      "metadata": {
        "id": "Ih-syUVQPi2p"
      }
    },
    {
      "cell_type": "markdown",
      "source": [
        "![Screenshot 2024-04-21 11.35.20 PM.png](data:image/png;base64,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)Insert picture of variable 1 from research question:\n"
      ],
      "metadata": {
        "id": "P2Vacu7L52PB"
      }
    },
    {
      "cell_type": "code",
      "source": [
        "df['H4MI6A'].value_counts()"
      ],
      "metadata": {
        "id": "BGXegclY57pS",
        "colab": {
          "base_uri": "https://localhost:8080/"
        },
        "outputId": "847dab81-8b83-4f22-b5f6-dcfc8d1ad014"
      },
      "execution_count": null,
      "outputs": [
        {
          "output_type": "execute_result",
          "data": {
            "text/plain": [
              "H4MI6A\n",
              "7    4763\n",
              "1     297\n",
              "0      53\n",
              "8       1\n",
              "Name: count, dtype: int64"
            ]
          },
          "metadata": {},
          "execution_count": 30
        }
      ]
    },
    {
      "cell_type": "code",
      "source": [
        "df['Active_Duty'] = df['H4MI6A']\n",
        "df['Active_Duty'].value_counts()"
      ],
      "metadata": {
        "id": "nPLbtE3XOVed",
        "colab": {
          "base_uri": "https://localhost:8080/"
        },
        "outputId": "06ad99cd-bcae-4867-dacb-4248ab28e199"
      },
      "execution_count": null,
      "outputs": [
        {
          "output_type": "execute_result",
          "data": {
            "text/plain": [
              "Active_Duty\n",
              "7    4763\n",
              "1     297\n",
              "0      53\n",
              "8       1\n",
              "Name: count, dtype: int64"
            ]
          },
          "metadata": {},
          "execution_count": 31
        }
      ]
    },
    {
      "cell_type": "code",
      "source": [
        "df['Active_Duty'] = df['Active_Duty'].loc[ df['Active_Duty'] !=7 ]\n",
        "df['Active_Duty'] = df['Active_Duty'].loc[ df['Active_Duty'] !=8 ]\n",
        "df['Active_Duty'].max()"
      ],
      "metadata": {
        "id": "XB3-YEAqOViV",
        "colab": {
          "base_uri": "https://localhost:8080/"
        },
        "outputId": "a3c3dc46-c943-45c4-d08a-122665d8cd68"
      },
      "execution_count": null,
      "outputs": [
        {
          "output_type": "execute_result",
          "data": {
            "text/plain": [
              "1.0"
            ]
          },
          "metadata": {},
          "execution_count": 32
        }
      ]
    },
    {
      "cell_type": "code",
      "source": [
        "df['Active_Duty'].describe()"
      ],
      "metadata": {
        "id": "Q1Pv5DMz5-2C",
        "colab": {
          "base_uri": "https://localhost:8080/"
        },
        "outputId": "aa013ff8-d30b-4bec-d45a-742144f8c0dc"
      },
      "execution_count": null,
      "outputs": [
        {
          "output_type": "execute_result",
          "data": {
            "text/plain": [
              "count    350.000000\n",
              "mean       0.848571\n",
              "std        0.358979\n",
              "min        0.000000\n",
              "25%        1.000000\n",
              "50%        1.000000\n",
              "75%        1.000000\n",
              "max        1.000000\n",
              "Name: Active_Duty, dtype: float64"
            ]
          },
          "metadata": {},
          "execution_count": 33
        }
      ]
    },
    {
      "cell_type": "code",
      "source": [
        "df['Active_Duty'].replace([0, '0', 1,'1',2, '2'] ,\n",
        "                         ['YES', 'YES',\n",
        "                          'NO', 'NO',\n",
        "                          'NO','NO'] , inplace =True)\n",
        "df['Active_Duty'].value_counts()"
      ],
      "metadata": {
        "id": "YUm90ffsOWTD",
        "colab": {
          "base_uri": "https://localhost:8080/"
        },
        "outputId": "8a6ca273-2683-4293-8c7f-dcf3c5b1e924"
      },
      "execution_count": null,
      "outputs": [
        {
          "output_type": "execute_result",
          "data": {
            "text/plain": [
              "Active_Duty\n",
              "NO     297\n",
              "YES     53\n",
              "Name: count, dtype: int64"
            ]
          },
          "metadata": {},
          "execution_count": 34
        }
      ]
    },
    {
      "cell_type": "code",
      "source": [
        "rp.summary_cat(df['Active_Duty'])"
      ],
      "metadata": {
        "id": "g6Z4DQmSOWXc",
        "colab": {
          "base_uri": "https://localhost:8080/",
          "height": 112
        },
        "outputId": "41f5dd6a-2c5d-4a48-d189-aba0f1f45cff"
      },
      "execution_count": null,
      "outputs": [
        {
          "output_type": "execute_result",
          "data": {
            "text/plain": [
              "      Variable Outcome  Count  Percent\n",
              "0  Active_Duty      NO    297    84.86\n",
              "1                  YES     53    15.14"
            ],
            "text/html": [
              "\n",
              "  <div id=\"df-745806a2-8908-442a-a1e4-e658d9017522\" class=\"colab-df-container\">\n",
              "    <div>\n",
              "<style scoped>\n",
              "    .dataframe tbody tr th:only-of-type {\n",
              "        vertical-align: middle;\n",
              "    }\n",
              "\n",
              "    .dataframe tbody tr th {\n",
              "        vertical-align: top;\n",
              "    }\n",
              "\n",
              "    .dataframe thead th {\n",
              "        text-align: right;\n",
              "    }\n",
              "</style>\n",
              "<table border=\"1\" class=\"dataframe\">\n",
              "  <thead>\n",
              "    <tr style=\"text-align: right;\">\n",
              "      <th></th>\n",
              "      <th>Variable</th>\n",
              "      <th>Outcome</th>\n",
              "      <th>Count</th>\n",
              "      <th>Percent</th>\n",
              "    </tr>\n",
              "  </thead>\n",
              "  <tbody>\n",
              "    <tr>\n",
              "      <th>0</th>\n",
              "      <td>Active_Duty</td>\n",
              "      <td>NO</td>\n",
              "      <td>297</td>\n",
              "      <td>84.86</td>\n",
              "    </tr>\n",
              "    <tr>\n",
              "      <th>1</th>\n",
              "      <td></td>\n",
              "      <td>YES</td>\n",
              "      <td>53</td>\n",
              "      <td>15.14</td>\n",
              "    </tr>\n",
              "  </tbody>\n",
              "</table>\n",
              "</div>\n",
              "    <div class=\"colab-df-buttons\">\n",
              "\n",
              "  <div class=\"colab-df-container\">\n",
              "    <button class=\"colab-df-convert\" onclick=\"convertToInteractive('df-745806a2-8908-442a-a1e4-e658d9017522')\"\n",
              "            title=\"Convert this dataframe to an interactive table.\"\n",
              "            style=\"display:none;\">\n",
              "\n",
              "  <svg xmlns=\"http://www.w3.org/2000/svg\" height=\"24px\" viewBox=\"0 -960 960 960\">\n",
              "    <path d=\"M120-120v-720h720v720H120Zm60-500h600v-160H180v160Zm220 220h160v-160H400v160Zm0 220h160v-160H400v160ZM180-400h160v-160H180v160Zm440 0h160v-160H620v160ZM180-180h160v-160H180v160Zm440 0h160v-160H620v160Z\"/>\n",
              "  </svg>\n",
              "    </button>\n",
              "\n",
              "  <style>\n",
              "    .colab-df-container {\n",
              "      display:flex;\n",
              "      gap: 12px;\n",
              "    }\n",
              "\n",
              "    .colab-df-convert {\n",
              "      background-color: #E8F0FE;\n",
              "      border: none;\n",
              "      border-radius: 50%;\n",
              "      cursor: pointer;\n",
              "      display: none;\n",
              "      fill: #1967D2;\n",
              "      height: 32px;\n",
              "      padding: 0 0 0 0;\n",
              "      width: 32px;\n",
              "    }\n",
              "\n",
              "    .colab-df-convert:hover {\n",
              "      background-color: #E2EBFA;\n",
              "      box-shadow: 0px 1px 2px rgba(60, 64, 67, 0.3), 0px 1px 3px 1px rgba(60, 64, 67, 0.15);\n",
              "      fill: #174EA6;\n",
              "    }\n",
              "\n",
              "    .colab-df-buttons div {\n",
              "      margin-bottom: 4px;\n",
              "    }\n",
              "\n",
              "    [theme=dark] .colab-df-convert {\n",
              "      background-color: #3B4455;\n",
              "      fill: #D2E3FC;\n",
              "    }\n",
              "\n",
              "    [theme=dark] .colab-df-convert:hover {\n",
              "      background-color: #434B5C;\n",
              "      box-shadow: 0px 1px 3px 1px rgba(0, 0, 0, 0.15);\n",
              "      filter: drop-shadow(0px 1px 2px rgba(0, 0, 0, 0.3));\n",
              "      fill: #FFFFFF;\n",
              "    }\n",
              "  </style>\n",
              "\n",
              "    <script>\n",
              "      const buttonEl =\n",
              "        document.querySelector('#df-745806a2-8908-442a-a1e4-e658d9017522 button.colab-df-convert');\n",
              "      buttonEl.style.display =\n",
              "        google.colab.kernel.accessAllowed ? 'block' : 'none';\n",
              "\n",
              "      async function convertToInteractive(key) {\n",
              "        const element = document.querySelector('#df-745806a2-8908-442a-a1e4-e658d9017522');\n",
              "        const dataTable =\n",
              "          await google.colab.kernel.invokeFunction('convertToInteractive',\n",
              "                                                    [key], {});\n",
              "        if (!dataTable) return;\n",
              "\n",
              "        const docLinkHtml = 'Like what you see? Visit the ' +\n",
              "          '<a target=\"_blank\" href=https://colab.research.google.com/notebooks/data_table.ipynb>data table notebook</a>'\n",
              "          + ' to learn more about interactive tables.';\n",
              "        element.innerHTML = '';\n",
              "        dataTable['output_type'] = 'display_data';\n",
              "        await google.colab.output.renderOutput(dataTable, element);\n",
              "        const docLink = document.createElement('div');\n",
              "        docLink.innerHTML = docLinkHtml;\n",
              "        element.appendChild(docLink);\n",
              "      }\n",
              "    </script>\n",
              "  </div>\n",
              "\n",
              "\n",
              "<div id=\"df-c67e2d5d-c5e8-4acf-9520-e6b7e8759641\">\n",
              "  <button class=\"colab-df-quickchart\" onclick=\"quickchart('df-c67e2d5d-c5e8-4acf-9520-e6b7e8759641')\"\n",
              "            title=\"Suggest charts\"\n",
              "            style=\"display:none;\">\n",
              "\n",
              "<svg xmlns=\"http://www.w3.org/2000/svg\" height=\"24px\"viewBox=\"0 0 24 24\"\n",
              "     width=\"24px\">\n",
              "    <g>\n",
              "        <path d=\"M19 3H5c-1.1 0-2 .9-2 2v14c0 1.1.9 2 2 2h14c1.1 0 2-.9 2-2V5c0-1.1-.9-2-2-2zM9 17H7v-7h2v7zm4 0h-2V7h2v10zm4 0h-2v-4h2v4z\"/>\n",
              "    </g>\n",
              "</svg>\n",
              "  </button>\n",
              "\n",
              "<style>\n",
              "  .colab-df-quickchart {\n",
              "      --bg-color: #E8F0FE;\n",
              "      --fill-color: #1967D2;\n",
              "      --hover-bg-color: #E2EBFA;\n",
              "      --hover-fill-color: #174EA6;\n",
              "      --disabled-fill-color: #AAA;\n",
              "      --disabled-bg-color: #DDD;\n",
              "  }\n",
              "\n",
              "  [theme=dark] .colab-df-quickchart {\n",
              "      --bg-color: #3B4455;\n",
              "      --fill-color: #D2E3FC;\n",
              "      --hover-bg-color: #434B5C;\n",
              "      --hover-fill-color: #FFFFFF;\n",
              "      --disabled-bg-color: #3B4455;\n",
              "      --disabled-fill-color: #666;\n",
              "  }\n",
              "\n",
              "  .colab-df-quickchart {\n",
              "    background-color: var(--bg-color);\n",
              "    border: none;\n",
              "    border-radius: 50%;\n",
              "    cursor: pointer;\n",
              "    display: none;\n",
              "    fill: var(--fill-color);\n",
              "    height: 32px;\n",
              "    padding: 0;\n",
              "    width: 32px;\n",
              "  }\n",
              "\n",
              "  .colab-df-quickchart:hover {\n",
              "    background-color: var(--hover-bg-color);\n",
              "    box-shadow: 0 1px 2px rgba(60, 64, 67, 0.3), 0 1px 3px 1px rgba(60, 64, 67, 0.15);\n",
              "    fill: var(--button-hover-fill-color);\n",
              "  }\n",
              "\n",
              "  .colab-df-quickchart-complete:disabled,\n",
              "  .colab-df-quickchart-complete:disabled:hover {\n",
              "    background-color: var(--disabled-bg-color);\n",
              "    fill: var(--disabled-fill-color);\n",
              "    box-shadow: none;\n",
              "  }\n",
              "\n",
              "  .colab-df-spinner {\n",
              "    border: 2px solid var(--fill-color);\n",
              "    border-color: transparent;\n",
              "    border-bottom-color: var(--fill-color);\n",
              "    animation:\n",
              "      spin 1s steps(1) infinite;\n",
              "  }\n",
              "\n",
              "  @keyframes spin {\n",
              "    0% {\n",
              "      border-color: transparent;\n",
              "      border-bottom-color: var(--fill-color);\n",
              "      border-left-color: var(--fill-color);\n",
              "    }\n",
              "    20% {\n",
              "      border-color: transparent;\n",
              "      border-left-color: var(--fill-color);\n",
              "      border-top-color: var(--fill-color);\n",
              "    }\n",
              "    30% {\n",
              "      border-color: transparent;\n",
              "      border-left-color: var(--fill-color);\n",
              "      border-top-color: var(--fill-color);\n",
              "      border-right-color: var(--fill-color);\n",
              "    }\n",
              "    40% {\n",
              "      border-color: transparent;\n",
              "      border-right-color: var(--fill-color);\n",
              "      border-top-color: var(--fill-color);\n",
              "    }\n",
              "    60% {\n",
              "      border-color: transparent;\n",
              "      border-right-color: var(--fill-color);\n",
              "    }\n",
              "    80% {\n",
              "      border-color: transparent;\n",
              "      border-right-color: var(--fill-color);\n",
              "      border-bottom-color: var(--fill-color);\n",
              "    }\n",
              "    90% {\n",
              "      border-color: transparent;\n",
              "      border-bottom-color: var(--fill-color);\n",
              "    }\n",
              "  }\n",
              "</style>\n",
              "\n",
              "  <script>\n",
              "    async function quickchart(key) {\n",
              "      const quickchartButtonEl =\n",
              "        document.querySelector('#' + key + ' button');\n",
              "      quickchartButtonEl.disabled = true;  // To prevent multiple clicks.\n",
              "      quickchartButtonEl.classList.add('colab-df-spinner');\n",
              "      try {\n",
              "        const charts = await google.colab.kernel.invokeFunction(\n",
              "            'suggestCharts', [key], {});\n",
              "      } catch (error) {\n",
              "        console.error('Error during call to suggestCharts:', error);\n",
              "      }\n",
              "      quickchartButtonEl.classList.remove('colab-df-spinner');\n",
              "      quickchartButtonEl.classList.add('colab-df-quickchart-complete');\n",
              "    }\n",
              "    (() => {\n",
              "      let quickchartButtonEl =\n",
              "        document.querySelector('#df-c67e2d5d-c5e8-4acf-9520-e6b7e8759641 button');\n",
              "      quickchartButtonEl.style.display =\n",
              "        google.colab.kernel.accessAllowed ? 'block' : 'none';\n",
              "    })();\n",
              "  </script>\n",
              "</div>\n",
              "    </div>\n",
              "  </div>\n"
            ],
            "application/vnd.google.colaboratory.intrinsic+json": {
              "type": "dataframe",
              "summary": "{\n  \"name\": \"rp\",\n  \"rows\": 2,\n  \"fields\": [\n    {\n      \"column\": \"Variable\",\n      \"properties\": {\n        \"dtype\": \"string\",\n        \"num_unique_values\": 2,\n        \"samples\": [\n          \"\",\n          \"Active_Duty\"\n        ],\n        \"semantic_type\": \"\",\n        \"description\": \"\"\n      }\n    },\n    {\n      \"column\": \"Outcome\",\n      \"properties\": {\n        \"dtype\": \"string\",\n        \"num_unique_values\": 2,\n        \"samples\": [\n          \"YES\",\n          \"NO\"\n        ],\n        \"semantic_type\": \"\",\n        \"description\": \"\"\n      }\n    },\n    {\n      \"column\": \"Count\",\n      \"properties\": {\n        \"dtype\": \"number\",\n        \"std\": 172,\n        \"min\": 53,\n        \"max\": 297,\n        \"num_unique_values\": 2,\n        \"samples\": [\n          53,\n          297\n        ],\n        \"semantic_type\": \"\",\n        \"description\": \"\"\n      }\n    },\n    {\n      \"column\": \"Percent\",\n      \"properties\": {\n        \"dtype\": \"number\",\n        \"std\": 49.29948478432609,\n        \"min\": 15.14,\n        \"max\": 84.86,\n        \"num_unique_values\": 2,\n        \"samples\": [\n          15.14,\n          84.86\n        ],\n        \"semantic_type\": \"\",\n        \"description\": \"\"\n      }\n    }\n  ]\n}"
            }
          },
          "metadata": {},
          "execution_count": 35
        }
      ]
    },
    {
      "cell_type": "markdown",
      "source": [
        "![Screenshot 2024-04-21 11.34.38 PM.png](data:image/png;base64,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)Insert picture of variable 2 from research question:"
      ],
      "metadata": {
        "id": "wZC59jy36Ecy"
      }
    },
    {
      "cell_type": "code",
      "source": [
        "df['H4SP1H'].value_counts()"
      ],
      "metadata": {
        "id": "1N6BlzE76JZJ",
        "colab": {
          "base_uri": "https://localhost:8080/"
        },
        "outputId": "9cc78c68-37b1-4619-a9b4-74d7abf5f89a"
      },
      "execution_count": null,
      "outputs": [
        {
          "output_type": "execute_result",
          "data": {
            "text/plain": [
              "H4SP1H\n",
              "6     1582\n",
              "7     1078\n",
              "5     1007\n",
              "8      406\n",
              "4      309\n",
              "9      261\n",
              "10     139\n",
              "3       95\n",
              "11      72\n",
              "12      64\n",
              "2       48\n",
              "1       40\n",
              "98      12\n",
              "96       1\n",
              "Name: count, dtype: int64"
            ]
          },
          "metadata": {},
          "execution_count": 36
        }
      ]
    },
    {
      "cell_type": "code",
      "source": [
        "df['Sleep_Hour'] = df['H4SP1H']\n",
        "df['Sleep_Hour'].value_counts()"
      ],
      "metadata": {
        "id": "kNVau0gAOk3a",
        "colab": {
          "base_uri": "https://localhost:8080/"
        },
        "outputId": "54a185df-3776-4124-ce00-75854770497e"
      },
      "execution_count": null,
      "outputs": [
        {
          "output_type": "execute_result",
          "data": {
            "text/plain": [
              "Sleep_Hour\n",
              "6     1582\n",
              "7     1078\n",
              "5     1007\n",
              "8      406\n",
              "4      309\n",
              "9      261\n",
              "10     139\n",
              "3       95\n",
              "11      72\n",
              "12      64\n",
              "2       48\n",
              "1       40\n",
              "98      12\n",
              "96       1\n",
              "Name: count, dtype: int64"
            ]
          },
          "metadata": {},
          "execution_count": 37
        }
      ]
    },
    {
      "cell_type": "code",
      "source": [
        "df['Sleep_Hour'] = df['H4SP1H']\n",
        "df['Sleep_Hour']= pd.to_numeric(df['Sleep_Hour'],errors= 'coerce')\n",
        "df['Sleep_Hour']= df['Sleep_Hour'].loc[df['Sleep_Hour'] < 96]\n",
        "df['Sleep_Hour']= df['Sleep_Hour'].loc[df['Sleep_Hour'] != ' ']\n",
        "df['Sleep_Hour'].value_counts()"
      ],
      "metadata": {
        "id": "PHVddApKOk8m",
        "colab": {
          "base_uri": "https://localhost:8080/"
        },
        "outputId": "b49d28e7-2874-4e34-c8be-52c41d69f526"
      },
      "execution_count": null,
      "outputs": [
        {
          "output_type": "execute_result",
          "data": {
            "text/plain": [
              "Sleep_Hour\n",
              "6.0     1582\n",
              "7.0     1078\n",
              "5.0     1007\n",
              "8.0      406\n",
              "4.0      309\n",
              "9.0      261\n",
              "10.0     139\n",
              "3.0       95\n",
              "11.0      72\n",
              "12.0      64\n",
              "2.0       48\n",
              "1.0       40\n",
              "Name: count, dtype: int64"
            ]
          },
          "metadata": {},
          "execution_count": 38
        }
      ]
    },
    {
      "cell_type": "code",
      "source": [
        "df['Sleep_Hour'].describe()"
      ],
      "metadata": {
        "id": "czFb8_moOlOy",
        "colab": {
          "base_uri": "https://localhost:8080/"
        },
        "outputId": "718434fb-3188-46ef-90d5-1c9541331e46"
      },
      "execution_count": null,
      "outputs": [
        {
          "output_type": "execute_result",
          "data": {
            "text/plain": [
              "count    5101.000000\n",
              "mean        6.327583\n",
              "std         1.754412\n",
              "min         1.000000\n",
              "25%         5.000000\n",
              "50%         6.000000\n",
              "75%         7.000000\n",
              "max        12.000000\n",
              "Name: Sleep_Hour, dtype: float64"
            ]
          },
          "metadata": {},
          "execution_count": 39
        }
      ]
    },
    {
      "cell_type": "code",
      "source": [
        "rp.summary_cat(df['Sleep_Hour'])"
      ],
      "metadata": {
        "id": "zLkanovP6L9s",
        "colab": {
          "base_uri": "https://localhost:8080/",
          "height": 426
        },
        "outputId": "571205cd-97b2-4ede-e9c2-473d37526c5c"
      },
      "execution_count": null,
      "outputs": [
        {
          "output_type": "execute_result",
          "data": {
            "text/plain": [
              "      Variable  Outcome  Count  Percent\n",
              "0   Sleep_Hour      6.0   1582    31.01\n",
              "1                   7.0   1078    21.13\n",
              "2                   5.0   1007    19.74\n",
              "3                   8.0    406     7.96\n",
              "4                   4.0    309     6.06\n",
              "5                   9.0    261     5.12\n",
              "6                  10.0    139     2.72\n",
              "7                   3.0     95     1.86\n",
              "8                  11.0     72     1.41\n",
              "9                  12.0     64     1.25\n",
              "10                  2.0     48     0.94\n",
              "11                  1.0     40     0.78"
            ],
            "text/html": [
              "\n",
              "  <div id=\"df-27dd7413-f1f9-48ff-b050-41fcaef06380\" class=\"colab-df-container\">\n",
              "    <div>\n",
              "<style scoped>\n",
              "    .dataframe tbody tr th:only-of-type {\n",
              "        vertical-align: middle;\n",
              "    }\n",
              "\n",
              "    .dataframe tbody tr th {\n",
              "        vertical-align: top;\n",
              "    }\n",
              "\n",
              "    .dataframe thead th {\n",
              "        text-align: right;\n",
              "    }\n",
              "</style>\n",
              "<table border=\"1\" class=\"dataframe\">\n",
              "  <thead>\n",
              "    <tr style=\"text-align: right;\">\n",
              "      <th></th>\n",
              "      <th>Variable</th>\n",
              "      <th>Outcome</th>\n",
              "      <th>Count</th>\n",
              "      <th>Percent</th>\n",
              "    </tr>\n",
              "  </thead>\n",
              "  <tbody>\n",
              "    <tr>\n",
              "      <th>0</th>\n",
              "      <td>Sleep_Hour</td>\n",
              "      <td>6.0</td>\n",
              "      <td>1582</td>\n",
              "      <td>31.01</td>\n",
              "    </tr>\n",
              "    <tr>\n",
              "      <th>1</th>\n",
              "      <td></td>\n",
              "      <td>7.0</td>\n",
              "      <td>1078</td>\n",
              "      <td>21.13</td>\n",
              "    </tr>\n",
              "    <tr>\n",
              "      <th>2</th>\n",
              "      <td></td>\n",
              "      <td>5.0</td>\n",
              "      <td>1007</td>\n",
              "      <td>19.74</td>\n",
              "    </tr>\n",
              "    <tr>\n",
              "      <th>3</th>\n",
              "      <td></td>\n",
              "      <td>8.0</td>\n",
              "      <td>406</td>\n",
              "      <td>7.96</td>\n",
              "    </tr>\n",
              "    <tr>\n",
              "      <th>4</th>\n",
              "      <td></td>\n",
              "      <td>4.0</td>\n",
              "      <td>309</td>\n",
              "      <td>6.06</td>\n",
              "    </tr>\n",
              "    <tr>\n",
              "      <th>5</th>\n",
              "      <td></td>\n",
              "      <td>9.0</td>\n",
              "      <td>261</td>\n",
              "      <td>5.12</td>\n",
              "    </tr>\n",
              "    <tr>\n",
              "      <th>6</th>\n",
              "      <td></td>\n",
              "      <td>10.0</td>\n",
              "      <td>139</td>\n",
              "      <td>2.72</td>\n",
              "    </tr>\n",
              "    <tr>\n",
              "      <th>7</th>\n",
              "      <td></td>\n",
              "      <td>3.0</td>\n",
              "      <td>95</td>\n",
              "      <td>1.86</td>\n",
              "    </tr>\n",
              "    <tr>\n",
              "      <th>8</th>\n",
              "      <td></td>\n",
              "      <td>11.0</td>\n",
              "      <td>72</td>\n",
              "      <td>1.41</td>\n",
              "    </tr>\n",
              "    <tr>\n",
              "      <th>9</th>\n",
              "      <td></td>\n",
              "      <td>12.0</td>\n",
              "      <td>64</td>\n",
              "      <td>1.25</td>\n",
              "    </tr>\n",
              "    <tr>\n",
              "      <th>10</th>\n",
              "      <td></td>\n",
              "      <td>2.0</td>\n",
              "      <td>48</td>\n",
              "      <td>0.94</td>\n",
              "    </tr>\n",
              "    <tr>\n",
              "      <th>11</th>\n",
              "      <td></td>\n",
              "      <td>1.0</td>\n",
              "      <td>40</td>\n",
              "      <td>0.78</td>\n",
              "    </tr>\n",
              "  </tbody>\n",
              "</table>\n",
              "</div>\n",
              "    <div class=\"colab-df-buttons\">\n",
              "\n",
              "  <div class=\"colab-df-container\">\n",
              "    <button class=\"colab-df-convert\" onclick=\"convertToInteractive('df-27dd7413-f1f9-48ff-b050-41fcaef06380')\"\n",
              "            title=\"Convert this dataframe to an interactive table.\"\n",
              "            style=\"display:none;\">\n",
              "\n",
              "  <svg xmlns=\"http://www.w3.org/2000/svg\" height=\"24px\" viewBox=\"0 -960 960 960\">\n",
              "    <path d=\"M120-120v-720h720v720H120Zm60-500h600v-160H180v160Zm220 220h160v-160H400v160Zm0 220h160v-160H400v160ZM180-400h160v-160H180v160Zm440 0h160v-160H620v160ZM180-180h160v-160H180v160Zm440 0h160v-160H620v160Z\"/>\n",
              "  </svg>\n",
              "    </button>\n",
              "\n",
              "  <style>\n",
              "    .colab-df-container {\n",
              "      display:flex;\n",
              "      gap: 12px;\n",
              "    }\n",
              "\n",
              "    .colab-df-convert {\n",
              "      background-color: #E8F0FE;\n",
              "      border: none;\n",
              "      border-radius: 50%;\n",
              "      cursor: pointer;\n",
              "      display: none;\n",
              "      fill: #1967D2;\n",
              "      height: 32px;\n",
              "      padding: 0 0 0 0;\n",
              "      width: 32px;\n",
              "    }\n",
              "\n",
              "    .colab-df-convert:hover {\n",
              "      background-color: #E2EBFA;\n",
              "      box-shadow: 0px 1px 2px rgba(60, 64, 67, 0.3), 0px 1px 3px 1px rgba(60, 64, 67, 0.15);\n",
              "      fill: #174EA6;\n",
              "    }\n",
              "\n",
              "    .colab-df-buttons div {\n",
              "      margin-bottom: 4px;\n",
              "    }\n",
              "\n",
              "    [theme=dark] .colab-df-convert {\n",
              "      background-color: #3B4455;\n",
              "      fill: #D2E3FC;\n",
              "    }\n",
              "\n",
              "    [theme=dark] .colab-df-convert:hover {\n",
              "      background-color: #434B5C;\n",
              "      box-shadow: 0px 1px 3px 1px rgba(0, 0, 0, 0.15);\n",
              "      filter: drop-shadow(0px 1px 2px rgba(0, 0, 0, 0.3));\n",
              "      fill: #FFFFFF;\n",
              "    }\n",
              "  </style>\n",
              "\n",
              "    <script>\n",
              "      const buttonEl =\n",
              "        document.querySelector('#df-27dd7413-f1f9-48ff-b050-41fcaef06380 button.colab-df-convert');\n",
              "      buttonEl.style.display =\n",
              "        google.colab.kernel.accessAllowed ? 'block' : 'none';\n",
              "\n",
              "      async function convertToInteractive(key) {\n",
              "        const element = document.querySelector('#df-27dd7413-f1f9-48ff-b050-41fcaef06380');\n",
              "        const dataTable =\n",
              "          await google.colab.kernel.invokeFunction('convertToInteractive',\n",
              "                                                    [key], {});\n",
              "        if (!dataTable) return;\n",
              "\n",
              "        const docLinkHtml = 'Like what you see? Visit the ' +\n",
              "          '<a target=\"_blank\" href=https://colab.research.google.com/notebooks/data_table.ipynb>data table notebook</a>'\n",
              "          + ' to learn more about interactive tables.';\n",
              "        element.innerHTML = '';\n",
              "        dataTable['output_type'] = 'display_data';\n",
              "        await google.colab.output.renderOutput(dataTable, element);\n",
              "        const docLink = document.createElement('div');\n",
              "        docLink.innerHTML = docLinkHtml;\n",
              "        element.appendChild(docLink);\n",
              "      }\n",
              "    </script>\n",
              "  </div>\n",
              "\n",
              "\n",
              "<div id=\"df-985ce461-e936-4772-8ee5-b6dc9bf7a03e\">\n",
              "  <button class=\"colab-df-quickchart\" onclick=\"quickchart('df-985ce461-e936-4772-8ee5-b6dc9bf7a03e')\"\n",
              "            title=\"Suggest charts\"\n",
              "            style=\"display:none;\">\n",
              "\n",
              "<svg xmlns=\"http://www.w3.org/2000/svg\" height=\"24px\"viewBox=\"0 0 24 24\"\n",
              "     width=\"24px\">\n",
              "    <g>\n",
              "        <path d=\"M19 3H5c-1.1 0-2 .9-2 2v14c0 1.1.9 2 2 2h14c1.1 0 2-.9 2-2V5c0-1.1-.9-2-2-2zM9 17H7v-7h2v7zm4 0h-2V7h2v10zm4 0h-2v-4h2v4z\"/>\n",
              "    </g>\n",
              "</svg>\n",
              "  </button>\n",
              "\n",
              "<style>\n",
              "  .colab-df-quickchart {\n",
              "      --bg-color: #E8F0FE;\n",
              "      --fill-color: #1967D2;\n",
              "      --hover-bg-color: #E2EBFA;\n",
              "      --hover-fill-color: #174EA6;\n",
              "      --disabled-fill-color: #AAA;\n",
              "      --disabled-bg-color: #DDD;\n",
              "  }\n",
              "\n",
              "  [theme=dark] .colab-df-quickchart {\n",
              "      --bg-color: #3B4455;\n",
              "      --fill-color: #D2E3FC;\n",
              "      --hover-bg-color: #434B5C;\n",
              "      --hover-fill-color: #FFFFFF;\n",
              "      --disabled-bg-color: #3B4455;\n",
              "      --disabled-fill-color: #666;\n",
              "  }\n",
              "\n",
              "  .colab-df-quickchart {\n",
              "    background-color: var(--bg-color);\n",
              "    border: none;\n",
              "    border-radius: 50%;\n",
              "    cursor: pointer;\n",
              "    display: none;\n",
              "    fill: var(--fill-color);\n",
              "    height: 32px;\n",
              "    padding: 0;\n",
              "    width: 32px;\n",
              "  }\n",
              "\n",
              "  .colab-df-quickchart:hover {\n",
              "    background-color: var(--hover-bg-color);\n",
              "    box-shadow: 0 1px 2px rgba(60, 64, 67, 0.3), 0 1px 3px 1px rgba(60, 64, 67, 0.15);\n",
              "    fill: var(--button-hover-fill-color);\n",
              "  }\n",
              "\n",
              "  .colab-df-quickchart-complete:disabled,\n",
              "  .colab-df-quickchart-complete:disabled:hover {\n",
              "    background-color: var(--disabled-bg-color);\n",
              "    fill: var(--disabled-fill-color);\n",
              "    box-shadow: none;\n",
              "  }\n",
              "\n",
              "  .colab-df-spinner {\n",
              "    border: 2px solid var(--fill-color);\n",
              "    border-color: transparent;\n",
              "    border-bottom-color: var(--fill-color);\n",
              "    animation:\n",
              "      spin 1s steps(1) infinite;\n",
              "  }\n",
              "\n",
              "  @keyframes spin {\n",
              "    0% {\n",
              "      border-color: transparent;\n",
              "      border-bottom-color: var(--fill-color);\n",
              "      border-left-color: var(--fill-color);\n",
              "    }\n",
              "    20% {\n",
              "      border-color: transparent;\n",
              "      border-left-color: var(--fill-color);\n",
              "      border-top-color: var(--fill-color);\n",
              "    }\n",
              "    30% {\n",
              "      border-color: transparent;\n",
              "      border-left-color: var(--fill-color);\n",
              "      border-top-color: var(--fill-color);\n",
              "      border-right-color: var(--fill-color);\n",
              "    }\n",
              "    40% {\n",
              "      border-color: transparent;\n",
              "      border-right-color: var(--fill-color);\n",
              "      border-top-color: var(--fill-color);\n",
              "    }\n",
              "    60% {\n",
              "      border-color: transparent;\n",
              "      border-right-color: var(--fill-color);\n",
              "    }\n",
              "    80% {\n",
              "      border-color: transparent;\n",
              "      border-right-color: var(--fill-color);\n",
              "      border-bottom-color: var(--fill-color);\n",
              "    }\n",
              "    90% {\n",
              "      border-color: transparent;\n",
              "      border-bottom-color: var(--fill-color);\n",
              "    }\n",
              "  }\n",
              "</style>\n",
              "\n",
              "  <script>\n",
              "    async function quickchart(key) {\n",
              "      const quickchartButtonEl =\n",
              "        document.querySelector('#' + key + ' button');\n",
              "      quickchartButtonEl.disabled = true;  // To prevent multiple clicks.\n",
              "      quickchartButtonEl.classList.add('colab-df-spinner');\n",
              "      try {\n",
              "        const charts = await google.colab.kernel.invokeFunction(\n",
              "            'suggestCharts', [key], {});\n",
              "      } catch (error) {\n",
              "        console.error('Error during call to suggestCharts:', error);\n",
              "      }\n",
              "      quickchartButtonEl.classList.remove('colab-df-spinner');\n",
              "      quickchartButtonEl.classList.add('colab-df-quickchart-complete');\n",
              "    }\n",
              "    (() => {\n",
              "      let quickchartButtonEl =\n",
              "        document.querySelector('#df-985ce461-e936-4772-8ee5-b6dc9bf7a03e button');\n",
              "      quickchartButtonEl.style.display =\n",
              "        google.colab.kernel.accessAllowed ? 'block' : 'none';\n",
              "    })();\n",
              "  </script>\n",
              "</div>\n",
              "    </div>\n",
              "  </div>\n"
            ],
            "application/vnd.google.colaboratory.intrinsic+json": {
              "type": "dataframe",
              "summary": "{\n  \"name\": \"rp\",\n  \"rows\": 12,\n  \"fields\": [\n    {\n      \"column\": \"Variable\",\n      \"properties\": {\n        \"dtype\": \"category\",\n        \"num_unique_values\": 2,\n        \"samples\": [\n          \"\",\n          \"Sleep_Hour\"\n        ],\n        \"semantic_type\": \"\",\n        \"description\": \"\"\n      }\n    },\n    {\n      \"column\": \"Outcome\",\n      \"properties\": {\n        \"dtype\": \"number\",\n        \"std\": 3.605551275463989,\n        \"min\": 1.0,\n        \"max\": 12.0,\n        \"num_unique_values\": 12,\n        \"samples\": [\n          2.0,\n          12.0\n        ],\n        \"semantic_type\": \"\",\n        \"description\": \"\"\n      }\n    },\n    {\n      \"column\": \"Count\",\n      \"properties\": {\n        \"dtype\": \"number\",\n        \"std\": 511,\n        \"min\": 40,\n        \"max\": 1582,\n        \"num_unique_values\": 12,\n        \"samples\": [\n          48,\n          64\n        ],\n        \"semantic_type\": \"\",\n        \"description\": \"\"\n      }\n    },\n    {\n      \"column\": \"Percent\",\n      \"properties\": {\n        \"dtype\": \"number\",\n        \"std\": 10.031608076777154,\n        \"min\": 0.78,\n        \"max\": 31.01,\n        \"num_unique_values\": 12,\n        \"samples\": [\n          0.94,\n          1.25\n        ],\n        \"semantic_type\": \"\",\n        \"description\": \"\"\n      }\n    }\n  ]\n}"
            }
          },
          "metadata": {},
          "execution_count": 40
        }
      ]
    },
    {
      "cell_type": "code",
      "source": [],
      "metadata": {
        "id": "SP14vFogOl84"
      },
      "execution_count": null,
      "outputs": []
    },
    {
      "cell_type": "code",
      "source": [],
      "metadata": {
        "id": "e9VMvlmnOpbm"
      },
      "execution_count": null,
      "outputs": []
    },
    {
      "cell_type": "code",
      "source": [],
      "metadata": {
        "id": "3Np43EAjOmAy"
      },
      "execution_count": null,
      "outputs": []
    },
    {
      "cell_type": "markdown",
      "source": [
        "# **Bivariate Statistics and Tables**"
      ],
      "metadata": {
        "id": "Xu1UNs6bOqSC"
      }
    },
    {
      "cell_type": "code",
      "source": [],
      "metadata": {
        "id": "8UntX_COev16"
      },
      "execution_count": null,
      "outputs": []
    },
    {
      "cell_type": "code",
      "source": [],
      "metadata": {
        "id": "1eMwOac3OzeV"
      },
      "execution_count": null,
      "outputs": []
    },
    {
      "cell_type": "code",
      "source": [],
      "metadata": {
        "id": "modDJuSqO28l"
      },
      "execution_count": null,
      "outputs": []
    },
    {
      "cell_type": "markdown",
      "source": [
        "## **Bivariate Graphs**"
      ],
      "metadata": {
        "id": "xKEG95PMO3HU"
      }
    },
    {
      "cell_type": "code",
      "source": [
        "df['Active_Duty'].value_counts().plot(kind = 'bar')"
      ],
      "metadata": {
        "id": "K209PZKTO77V",
        "colab": {
          "base_uri": "https://localhost:8080/",
          "height": 480
        },
        "outputId": "991b311c-15c9-49d1-f017-6b641d137860"
      },
      "execution_count": null,
      "outputs": [
        {
          "output_type": "execute_result",
          "data": {
            "text/plain": [
              "<Axes: xlabel='Active_Duty'>"
            ]
          },
          "metadata": {},
          "execution_count": 41
        },
        {
          "output_type": "display_data",
          "data": {
            "text/plain": [
              "<Figure size 640x480 with 1 Axes>"
            ],
            "image/png": "[encoded data removed]"
          },
          "metadata": {}
        }
      ]
    },
    {
      "cell_type": "code",
      "source": [
        "df['Active_Duty'].value_counts().plot(kind = 'pie')"
      ],
      "metadata": {
        "id": "aG9s2rMsO7_R",
        "colab": {
          "base_uri": "https://localhost:8080/",
          "height": 425
        },
        "outputId": "ceec90c1-6662-42e2-813c-500753ef3912"
      },
      "execution_count": null,
      "outputs": [
        {
          "output_type": "execute_result",
          "data": {
            "text/plain": [
              "<Axes: ylabel='count'>"
            ]
          },
          "metadata": {},
          "execution_count": 42
        },
        {
          "output_type": "display_data",
          "data": {
            "text/plain": [
              "<Figure size 640x480 with 1 Axes>"
            ],
            "image/png": "[encoded data removed]"
          },
          "metadata": {}
        }
      ]
    },
    {
      "cell_type": "code",
      "source": [
        "sns.histplot( x = 'Sleep_Hour' , data = df)"
      ],
      "metadata": {
        "id": "k9WKjzwZO8Dx",
        "colab": {
          "base_uri": "https://localhost:8080/",
          "height": 469
        },
        "outputId": "61895b01-c98a-4033-eba3-ba67581a5d82"
      },
      "execution_count": null,
      "outputs": [
        {
          "output_type": "execute_result",
          "data": {
            "text/plain": [
              "<Axes: xlabel='Sleep_Hour', ylabel='Count'>"
            ]
          },
          "metadata": {},
          "execution_count": 43
        },
        {
          "output_type": "display_data",
          "data": {
            "text/plain": [
              "<Figure size 640x480 with 1 Axes>"
            ],
            "image/png": "[encoded data removed]"
          },
          "metadata": {}
        }
      ]
    },
    {
      "cell_type": "code",
      "source": [
        "df['Sleep_Hour'].value_counts().plot(kind = 'pie')"
      ],
      "metadata": {
        "id": "UxNww4GfO8Ho",
        "colab": {
          "base_uri": "https://localhost:8080/",
          "height": 425
        },
        "outputId": "f5d4acda-051e-4a35-bd70-f98f02fb08e0"
      },
      "execution_count": null,
      "outputs": [
        {
          "output_type": "execute_result",
          "data": {
            "text/plain": [
              "<Axes: ylabel='count'>"
            ]
          },
          "metadata": {},
          "execution_count": 44
        },
        {
          "output_type": "display_data",
          "data": {
            "text/plain": [
              "<Figure size 640x480 with 1 Axes>"
            ],
            "image/png": "[encoded data removed]"
          },
          "metadata": {}
        }
      ]
    },
    {
      "cell_type": "markdown",
      "source": [
        "# **Hypothesis Test**"
      ],
      "metadata": {
        "id": "tlnwQBDCO9Up"
      }
    },
    {
      "cell_type": "markdown",
      "source": [
        "**Which hypothesis will you be using?bold text**"
      ],
      "metadata": {
        "id": "FoWv7P97PN5L"
      }
    },
    {
      "cell_type": "code",
      "source": [],
      "metadata": {
        "id": "KHZP7Jm_PWVf"
      },
      "execution_count": null,
      "outputs": []
    },
    {
      "cell_type": "code",
      "source": [],
      "metadata": {
        "id": "WEKfw5L6PWiR"
      },
      "execution_count": null,
      "outputs": []
    },
    {
      "cell_type": "code",
      "source": [],
      "metadata": {
        "id": "jtUCqa5HPWwK"
      },
      "execution_count": null,
      "outputs": []
    },
    {
      "cell_type": "markdown",
      "source": [
        "# **Multiple Comparison Test**"
      ],
      "metadata": {
        "id": "TdtiZIvZPYWJ"
      }
    },
    {
      "cell_type": "code",
      "source": [],
      "metadata": {
        "id": "fskSI9YePd-T"
      },
      "execution_count": null,
      "outputs": []
    },
    {
      "cell_type": "code",
      "source": [],
      "metadata": {
        "id": "PR_YSnLJPeBO"
      },
      "execution_count": null,
      "outputs": []
    },
    {
      "cell_type": "code",
      "source": [],
      "metadata": {
        "id": "yNs25ynYPeE2"
      },
      "execution_count": null,
      "outputs": []
    }
  ]
}